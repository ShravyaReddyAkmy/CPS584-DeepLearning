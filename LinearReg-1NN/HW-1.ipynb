version https://git-lfs.github.com/spec/v1
oid sha256:b0d90f2556223d3e9278aae95bc0c81f85384b37fcf15b66ce7fd618a278ebfa
size 77953
